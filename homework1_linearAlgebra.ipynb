{
 "cells": [
  {
   "cell_type": "code",
   "execution_count": null,
   "id": "6d1d3004",
   "metadata": {
    "deletable": false,
    "editable": false,
    "nbgrader": {
     "cell_type": "code",
     "checksum": "65809e76b3b52e751220478655adcfc9",
     "grade": false,
     "grade_id": "cell-1b70a884b5023af3",
     "locked": true,
     "schema_version": 3,
     "solution": false,
     "task": false
    }
   },
   "outputs": [],
   "source": [
    "# Import the Numpy Python library for us in answers to the following questions\n",
    "import numpy as np\n",
    "import matplotlib.pyplot as plt"
   ]
  },
  {
   "cell_type": "markdown",
   "id": "3246b8db",
   "metadata": {
    "deletable": false,
    "editable": false,
    "nbgrader": {
     "cell_type": "markdown",
     "checksum": "252f87e83acafb5d6692b1993a52851a",
     "grade": false,
     "grade_id": "cell-8467652217d52cc8",
     "locked": true,
     "schema_version": 3,
     "solution": false,
     "task": false
    }
   },
   "source": [
    "# Preamble"
   ]
  },
  {
   "cell_type": "markdown",
   "id": "fd4fa458",
   "metadata": {
    "deletable": false,
    "editable": false,
    "nbgrader": {
     "cell_type": "markdown",
     "checksum": "18f87e28d6df0f3aaf671cbc0612d2fc",
     "grade": false,
     "grade_id": "cell-c824b5945f3240a1",
     "locked": true,
     "schema_version": 3,
     "solution": false,
     "task": false
    }
   },
   "source": [
    "**Question 1:** \n",
    "Write code to solve $M\\cdot \\vec{v}$ for  \n",
    "$\n",
    "    M=\\begin{bmatrix}\n",
    "        1 & 2 & 3 \\\\ \n",
    "        4 & 5 & 6 \\\\\n",
    "        7 & 8 & 9 \\\\\n",
    "        10 & 11 & 12 \\\\\n",
    "    \\end{bmatrix}\n",
    "$\n",
    "and\n",
    "$\n",
    "    \\vec{v} = \\begin{bmatrix}\n",
    "        3 \\\\\n",
    "        6 \\\\\n",
    "        9 \\\\\n",
    "    \\end{bmatrix}\n",
    "$\n"
   ]
  },
  {
   "cell_type": "code",
   "execution_count": null,
   "id": "afb7c5ac",
   "metadata": {
    "deletable": false,
    "nbgrader": {
     "cell_type": "code",
     "checksum": "42b6cef8e650246fa9bab9b8c29a4e44",
     "grade": false,
     "grade_id": "cell-0b449ba569dbe1c5",
     "locked": false,
     "schema_version": 3,
     "solution": true,
     "task": false
    }
   },
   "outputs": [],
   "source": [
    "import numpy as np\n",
    "import matplotlib.pyplot as plt\n",
    "\n",
    "def matrix_vector_dot_product():\n",
    "    \"\"\"\n",
    "    Calculates the dot product of matrix M and vector v.\n",
    "    \"\"\"\n",
    "    # Define the 4x3 matrix M as specified in the problem.\n",
    "    M = np.array([[1, 2, 3],\n",
    "                  [4, 5, 6],\n",
    "                  [7, 8, 9],\n",
    "                  [10, 11, 12]])\n",
    "    \n",
    "    # Define the 3-element vector v.\n",
    "    v = np.array([3, 6, 9])\n",
    "    \n",
    "    # Calculate and return the dot product of M and v.\n",
    "    # The result will be a 4-element vector.\n",
    "    return M @ v\n",
    "\n",
    "# The hidden test cell will call the function, so we don't call it here.\n",
    "# result = matrix_vector_dot_product()\n",
    "# print(result)\n",
    "# Expected output: [ 42  96 150 204]\n"
   ]
  },
  {
   "cell_type": "code",
   "execution_count": null,
   "id": "18d49bfd",
   "metadata": {
    "deletable": false,
    "editable": false,
    "nbgrader": {
     "cell_type": "code",
     "checksum": "be1eee506e63b7079b967f59a6cee22f",
     "grade": true,
     "grade_id": "cell-296c628830443f02",
     "locked": true,
     "points": 3,
     "schema_version": 3,
     "solution": false,
     "task": false
    }
   },
   "outputs": [],
   "source": [
    "# HIDDEN TEST CELL\n"
   ]
  },
  {
   "cell_type": "markdown",
   "id": "7fc39e88",
   "metadata": {
    "deletable": false,
    "editable": false,
    "nbgrader": {
     "cell_type": "markdown",
     "checksum": "ef0c030d678a37edd64066a3eea1d700",
     "grade": false,
     "grade_id": "cell-68dea0141c62270a",
     "locked": true,
     "schema_version": 3,
     "solution": false,
     "task": false
    }
   },
   "source": [
    "**Question 2:**\n",
    "Find the eigenvalues and corresponding eigenvectors for the matrix\n",
    "$\n",
    "    M = \\begin{bmatrix}\n",
    "        5 & 10 & 11 \\\\\n",
    "        9 & 2 & 22 \\\\\n",
    "        3 & 4 & 5\\\\\n",
    "    \\end{bmatrix}\n",
    "$\n",
    "\n",
    "Store the eigenvalues in a variable called $eigvals$ and the eigenvectors in a variable called $eigvecs$."
   ]
  },
  {
   "cell_type": "code",
   "execution_count": null,
   "id": "b1563937",
   "metadata": {
    "deletable": false,
    "nbgrader": {
     "cell_type": "code",
     "checksum": "8e8ccbc0728a9cb0b1e03572bba1a589",
     "grade": false,
     "grade_id": "cell-316c3a36d5210863",
     "locked": false,
     "schema_version": 3,
     "solution": true,
     "task": false
    }
   },
   "outputs": [],
   "source": [
    "import numpy as np\n",
    "from numpy.linalg import eig\n",
    "\n",
    "def compute_eigenvalues_eigenvectors():\n",
    "    \"\"\"\n",
    "    This function should compute and return the eigenvalues and eigenvectors \n",
    "    of the matrix M.\n",
    "    \"\"\"\n",
    "    # Define the matrix M as specified in the problem.\n",
    "    # Note: The matrix in the prompt for Question 2 is different from the\n",
    "    # one in the student's code. We'll use the one from the prompt.\n",
    "    M = np.array([[5, 10, 11],\n",
    "                  [9, 2, 22],\n",
    "                  [3, 4, 5]])\n",
    "    \n",
    "    # Compute eigenvalues and eigenvectors\n",
    "    eigvals, eigvecs = eig(M)\n",
    "    \n",
    "    return eigvals, eigvecs\n",
    "\n",
    "# The autograder also expects the variables 'eigvals' and 'eigvecs' to be\n",
    "# defined in the global scope. So, we define the function and then call it.\n",
    "eigvals, eigvecs = compute_eigenvalues_eigenvectors()\n"
   ]
  },
  {
   "cell_type": "code",
   "execution_count": null,
   "id": "3cba3d9f",
   "metadata": {
    "deletable": false,
    "editable": false,
    "nbgrader": {
     "cell_type": "code",
     "checksum": "ae3b9ac485ae87d2b6040cfe2b51245e",
     "grade": true,
     "grade_id": "cell-c0bb9873b8c44415",
     "locked": true,
     "points": 3,
     "schema_version": 3,
     "solution": false,
     "task": false
    }
   },
   "outputs": [],
   "source": [
    "# HIDDEN TEST CELL"
   ]
  },
  {
   "cell_type": "markdown",
   "id": "09a3999f",
   "metadata": {
    "deletable": false,
    "editable": false,
    "nbgrader": {
     "cell_type": "markdown",
     "checksum": "6ee84090610755867db2e3a4d36b0fa3",
     "grade": false,
     "grade_id": "cell-713c1fa59c14dbe5",
     "locked": true,
     "schema_version": 3,
     "solution": false,
     "task": false
    }
   },
   "source": [
    "**Question 3:**\n",
    "Read in the Datasaurus x-y coordinates as an 2xN matrix.\n",
    "\n",
    "Use the rotation matrix to rotate the points 90 degrees and plot the result. Use the variable $R$ to represent the rotation matrix.\n",
    "\n",
    "Use the variable $dino2$ to represent the rotated data points."
   ]
  },
  {
   "cell_type": "code",
   "execution_count": null,
   "id": "71503ff3",
   "metadata": {
    "deletable": false,
    "editable": false,
    "nbgrader": {
     "cell_type": "code",
     "checksum": "49cfbb09b788052f90073402bb11c32c",
     "grade": false,
     "grade_id": "cell-631eb0e80620bd31",
     "locked": true,
     "schema_version": 3,
     "solution": false,
     "task": false
    }
   },
   "outputs": [],
   "source": [
    "dino = np.loadtxt(\"./assets/Datasaurus_data.csv\",delimiter=',').T\n",
    "print(dino.shape)\n",
    "dino[:,:10]"
   ]
  },
  {
   "cell_type": "code",
   "execution_count": null,
   "id": "c42eefd7",
   "metadata": {
    "deletable": false,
    "nbgrader": {
     "cell_type": "code",
     "checksum": "9ac1e2bd930d58b076762d1b60eb29ed",
     "grade": false,
     "grade_id": "cell-9c18294d34e72d57",
     "locked": false,
     "schema_version": 3,
     "solution": true,
     "task": false
    }
   },
   "outputs": [],
   "source": [
    "# Load the data first\n",
    "dino = np.loadtxt(\"./assets/Datasaurus_data.csv\", delimiter=',').T\n",
    "\n",
    "def rotate_dino(dino):\n",
    "    \"\"\"\n",
    "    Rotates the given 'dino' dataset by 90 degrees and plots the rotated dinosaur.\n",
    "\n",
    "    Returns: \n",
    "        dino2 : A 2D array representing the rotated dinosaur dataset.\n",
    "    \"\"\"\n",
    "    # Define the 90-degree counter-clockwise rotation matrix R\n",
    "    theta = np.pi / 2  # 90 degrees in radians\n",
    "    R = np.array([[np.cos(theta), -np.sin(theta)],\n",
    "                  [np.sin(theta),  np.cos(theta)]])\n",
    "\n",
    "    # Apply the rotation to the dino data\n",
    "    dino2 = R @ dino\n",
    "\n",
    "    # Plot the rotated data\n",
    "    plt.figure(figsize=(6, 6))\n",
    "    plt.scatter(dino2[0, :], dino2[1, :], s=10)\n",
    "    plt.title(\"Rotated Datasaurus\")\n",
    "    plt.xlabel(\"X-coordinate\")\n",
    "    plt.ylabel(\"Y-coordinate\")\n",
    "    plt.axis('equal')  # Ensure the aspect ratio is equal\n",
    "    plt.grid(True)\n",
    "    plt.show()\n",
    "    \n",
    "    return dino2\n",
    "\n",
    "# Execute the function\n",
    "dino2 = rotate_dino(dino)"
   ]
  },
  {
   "cell_type": "code",
   "execution_count": null,
   "id": "d5d44d1e",
   "metadata": {
    "deletable": false,
    "editable": false,
    "nbgrader": {
     "cell_type": "code",
     "checksum": "ca910c44845f853172a9bce15d7a2e37",
     "grade": true,
     "grade_id": "cell-8ae438e54d3867d1",
     "locked": true,
     "points": 3,
     "schema_version": 3,
     "solution": false,
     "task": false
    }
   },
   "outputs": [],
   "source": [
    "# HIDDEN TEST CELL\n"
   ]
  },
  {
   "cell_type": "code",
   "execution_count": null,
   "id": "cb20980c",
   "metadata": {},
   "outputs": [],
   "source": []
  },
  {
   "cell_type": "code",
   "execution_count": null,
   "id": "cec38201",
   "metadata": {},
   "outputs": [],
   "source": []
  },
  {
   "cell_type": "code",
   "execution_count": null,
   "id": "5cacdb68",
   "metadata": {},
   "outputs": [],
   "source": []
  },
  {
   "cell_type": "code",
   "execution_count": null,
   "id": "fe45a7ac",
   "metadata": {},
   "outputs": [],
   "source": []
  },
  {
   "cell_type": "code",
   "execution_count": null,
   "id": "d1b7da6d",
   "metadata": {},
   "outputs": [],
   "source": []
  }
 ],
 "metadata": {
  "kernelspec": {
   "display_name": "Python 3 (ipykernel)",
   "language": "python",
   "name": "python3"
  },
  "language_info": {
   "codemirror_mode": {
    "name": "ipython",
    "version": 3
   },
   "file_extension": ".py",
   "mimetype": "text/x-python",
   "name": "python",
   "nbconvert_exporter": "python",
   "pygments_lexer": "ipython3",
   "version": "3.10.6"
  }
 },
 "nbformat": 4,
 "nbformat_minor": 5
}
