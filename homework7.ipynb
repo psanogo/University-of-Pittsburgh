{
 "cells": [
  {
   "cell_type": "code",
   "execution_count": 1,
   "metadata": {
    "deletable": false,
    "editable": false,
    "nbgrader": {
     "cell_type": "code",
     "checksum": "9626d4902e16ad834827a494b09c569d",
     "grade": false,
     "grade_id": "cell-d361354a93c4f450",
     "locked": true,
     "schema_version": 3,
     "solution": false,
     "task": false
    }
   },
   "outputs": [],
   "source": [
    "import numpy as np\n",
    "import pandas as pd"
   ]
  },
  {
   "cell_type": "markdown",
   "metadata": {
    "deletable": false,
    "editable": false,
    "nbgrader": {
     "cell_type": "markdown",
     "checksum": "c4d39bb20676a65700fe4ddc9f2f3f11",
     "grade": false,
     "grade_id": "cell-f950eae3cb6961c2",
     "locked": true,
     "schema_version": 3,
     "solution": false,
     "task": false
    }
   },
   "source": [
    "**Question 1:** The dataframe called \"coinFlips\" has two columns; the first represents the results for flipping Coin A and the second column represents the results of flipping Coin B.\n",
    "In both columns, 1 represents a heads and 0 represents a tails.\n",
    "\n",
    "Calcuate \n",
    "- $\\hspace{.25cm}P(A=H)\\hspace{.25cm}$ the probability that Coin A is heads, \n",
    "- $\\hspace{.25cm}P(B=H)\\hspace{.25cm}$ the probability the Coin B is heads, \n",
    "- and $\\hspace{.25cm}P(A=H|B=H)\\hspace{.25cm}$ the probability that Coin A is heads given that Coin B is heads (i.e., using the rows in the dataframe)."
   ]
  },
  {
   "cell_type": "code",
   "execution_count": 2,
   "metadata": {
    "deletable": false,
    "editable": false,
    "nbgrader": {
     "cell_type": "code",
     "checksum": "60260449884a58da477e3d2145a0b122",
     "grade": false,
     "grade_id": "cell-9f7d23d05d967d9f",
     "locked": true,
     "schema_version": 3,
     "solution": false,
     "task": false
    }
   },
   "outputs": [
    {
     "data": {
      "text/plain": [
       "(50, 2)"
      ]
     },
     "execution_count": 2,
     "metadata": {},
     "output_type": "execute_result"
    }
   ],
   "source": [
    "coinFlips = pd.read_csv(\"./coinFlipData.csv\",index_col=0)\n",
    "coinFlips.shape"
   ]
  },
  {
   "cell_type": "code",
   "execution_count": 3,
   "metadata": {
    "deletable": false,
    "nbgrader": {
     "cell_type": "code",
     "checksum": "bf9f972b4b1524e10691b4523dfc034c",
     "grade": false,
     "grade_id": "cell-b6c08c60cee33313",
     "locked": false,
     "schema_version": 3,
     "solution": true,
     "task": false
    }
   },
   "outputs": [
    {
     "data": {
      "text/plain": [
       "{'P(A=H)': 0.6, 'P(B=H)': 0.48, 'P(A=H|B=H)': 0.7083333333333334}"
      ]
     },
     "execution_count": 3,
     "metadata": {},
     "output_type": "execute_result"
    }
   ],
   "source": [
    "import pandas as pd\n",
    "\n",
    "def calculate_coin_probabilities():\n",
    "    coinFlips = pd.read_csv(\"coinFlipData.csv\", index_col=0)\n",
    "    \n",
    "    # Total number of flips\n",
    "    total_flips = len(coinFlips)\n",
    "    \n",
    "    # Probability P(A=H)\n",
    "    prob_A_heads = coinFlips['Coin A'].mean()\n",
    "    \n",
    "    # Probability P(B=H)\n",
    "    prob_B_heads = coinFlips['Coin B'].mean()\n",
    "    \n",
    "    # Probability P(A=H and B=H)\n",
    "    joint_prob_A_and_B = len(coinFlips[(coinFlips['Coin A'] == 1) & (coinFlips['Coin B'] == 1)]) / total_flips\n",
    "    \n",
    "    # Conditional Probability P(A=H | B=H)\n",
    "    # P(A=H | B=H) = P(A=H and B=H) / P(B=H)\n",
    "    prob_A_given_B_heads = joint_prob_A_and_B / prob_B_heads\n",
    "    \n",
    "    return {\n",
    "        'P(A=H)': prob_A_heads,\n",
    "        'P(B=H)': prob_B_heads,\n",
    "        'P(A=H|B=H)': prob_A_given_B_heads\n",
    "    }\n",
    "\n",
    "calculate_coin_probabilities()\n"
   ]
  },
  {
   "cell_type": "code",
   "execution_count": 4,
   "metadata": {
    "deletable": false,
    "editable": false,
    "nbgrader": {
     "cell_type": "code",
     "checksum": "be27001c2f4e1cc266c2ad54304ea9ce",
     "grade": true,
     "grade_id": "cell-58ff184bb1e07644",
     "locked": true,
     "points": 3,
     "schema_version": 3,
     "solution": false,
     "task": false
    }
   },
   "outputs": [],
   "source": [
    "# HIDDEN TEST CELL\n"
   ]
  },
  {
   "cell_type": "markdown",
   "metadata": {
    "deletable": false,
    "editable": false,
    "nbgrader": {
     "cell_type": "markdown",
     "checksum": "ac7db89afa60dddb7e9535a86712fd1e",
     "grade": false,
     "grade_id": "cell-c9b356c4b36c2917",
     "locked": true,
     "schema_version": 3,
     "solution": false,
     "task": false
    }
   },
   "source": [
    "**Question 2:** What is the p-value associated with the statistical test for the hypothesis that $\\hspace{.25cm}P(A=H)>P(B=H)$? And, what is the p-value associated with the statistical test for the hypothesis that $\\hspace{.25cm}P(A=H)>P(A=H|B=H)?$"
   ]
  },
  {
   "cell_type": "code",
   "execution_count": 5,
   "metadata": {
    "deletable": false,
    "nbgrader": {
     "cell_type": "code",
     "checksum": "148f4f057182cff569df0176bfa10292",
     "grade": false,
     "grade_id": "cell-b4ee9ae2e987ab36",
     "locked": false,
     "schema_version": 3,
     "solution": true,
     "task": false
    }
   },
   "outputs": [
    {
     "data": {
      "text/plain": [
       "{'p_value_P(A=H)>P(B=H)': 0.11432213117053847,\n",
       " 'p_value_P(A=H)>P(A=H|B=H)': 0.9641094301401828}"
      ]
     },
     "execution_count": 5,
     "metadata": {},
     "output_type": "execute_result"
    }
   ],
   "source": [
    "import pandas as pd\n",
    "import scipy\n",
    "from statsmodels.stats.proportion import proportions_ztest\n",
    "\n",
    "def calculate_probabilities():\n",
    "    coinFlips = pd.read_csv(\"coinFlipData.csv\", index_col=0)\n",
    "\n",
    "    # Probabilities from Question 1\n",
    "    prob_A_heads = coinFlips['Coin A'].mean()\n",
    "    prob_B_heads = coinFlips['Coin B'].mean()\n",
    "    \n",
    "    # Calculate counts for proportions_ztest\n",
    "    successes_A = coinFlips['Coin A'].sum()\n",
    "    trials_A = len(coinFlips['Coin A'])\n",
    "    successes_B = coinFlips['Coin B'].sum()\n",
    "    trials_B = len(coinFlips['Coin B'])\n",
    "    \n",
    "    # Test 1: P(A=H) > P(B=H) (one-sided)\n",
    "    # Perform a z-test for two proportions\n",
    "    counts = np.array([successes_A, successes_B])\n",
    "    nobs = np.array([trials_A, trials_B])\n",
    "    z_stat, p_value_test1 = proportions_ztest(count=counts, nobs=nobs, alternative='larger')\n",
    "\n",
    "    # Test 2: P(A=H) > P(A=H|B=H) (one-sided)\n",
    "    # P(A=H|B=H) is not a fixed value but calculated from the data.\n",
    "    # This comparison effectively tests independence between A and B.\n",
    "    # We can use a chi-squared test or a Fisher's exact test on the contingency table.\n",
    "    \n",
    "    # Build contingency table\n",
    "    contingency_table = pd.crosstab(coinFlips['Coin A'], coinFlips['Coin B'])\n",
    "    \n",
    "    # Perform Fisher's exact test, one-sided ('greater' assumes positive association)\n",
    "    # The alternative hypothesis P(A=H) > P(A=H|B=H) suggests a negative association, so we use 'less'\n",
    "    odds_ratio, p_value_test2 = scipy.stats.fisher_exact(contingency_table, alternative='less')\n",
    "    \n",
    "    return {\n",
    "        'p_value_P(A=H)>P(B=H)': p_value_test1,\n",
    "        'p_value_P(A=H)>P(A=H|B=H)': p_value_test2\n",
    "    }\n",
    "\n",
    "calculate_probabilities()\n"
   ]
  },
  {
   "cell_type": "code",
   "execution_count": 6,
   "metadata": {
    "deletable": false,
    "editable": false,
    "nbgrader": {
     "cell_type": "code",
     "checksum": "1ca17d3d9ce17b89df99f5d3983e63c7",
     "grade": true,
     "grade_id": "cell-1bd27a8ea4991faa",
     "locked": true,
     "points": 3,
     "schema_version": 3,
     "solution": false,
     "task": false
    }
   },
   "outputs": [],
   "source": [
    "# HIDDEN TEST CELL\n"
   ]
  },
  {
   "cell_type": "markdown",
   "metadata": {
    "deletable": false,
    "editable": false,
    "nbgrader": {
     "cell_type": "markdown",
     "checksum": "23532b4bdc0440096b88bb44a6d8428b",
     "grade": false,
     "grade_id": "cell-b2891f2fe2c91f58",
     "locked": true,
     "schema_version": 3,
     "solution": false,
     "task": false
    }
   },
   "source": [
    "**Question 3:** The dataframe called \"orderData\" has two columns. The first column is sales data from Pizza Place 1 and the second columns is sales data from Pizza Place 2. What is the p-value for the hypothesis that the average sale per order is different between the two pizza places? \n",
    "\n",
    "Hint: Use a two-sided test."
   ]
  },
  {
   "cell_type": "code",
   "execution_count": 7,
   "metadata": {
    "deletable": false,
    "editable": false,
    "nbgrader": {
     "cell_type": "code",
     "checksum": "aef9a911921a6e1c070a42dc53f034e3",
     "grade": false,
     "grade_id": "cell-b7159d334202c6f8",
     "locked": true,
     "schema_version": 3,
     "solution": false,
     "task": false
    }
   },
   "outputs": [
    {
     "data": {
      "text/plain": [
       "(10, 2)"
      ]
     },
     "execution_count": 7,
     "metadata": {},
     "output_type": "execute_result"
    }
   ],
   "source": [
    "orderData = pd.read_csv(\"./orderData.csv\",index_col=0)\n",
    "orderData.shape"
   ]
  },
  {
   "cell_type": "code",
   "execution_count": 8,
   "metadata": {
    "deletable": false,
    "nbgrader": {
     "cell_type": "code",
     "checksum": "352415a4ca5fecf7c3dbaa222802cd05",
     "grade": false,
     "grade_id": "cell-8806d79e2ec43b43",
     "locked": false,
     "schema_version": 3,
     "solution": true,
     "task": false
    }
   },
   "outputs": [
    {
     "ename": "KeyError",
     "evalue": "'Pizza Place 1'",
     "output_type": "error",
     "traceback": [
      "\u001b[0;31m---------------------------------------------------------------------------\u001b[0m",
      "\u001b[0;31mKeyError\u001b[0m                                  Traceback (most recent call last)",
      "File \u001b[0;32m/opt/conda/lib/python3.10/site-packages/pandas/core/indexes/base.py:3803\u001b[0m, in \u001b[0;36mIndex.get_loc\u001b[0;34m(self, key, method, tolerance)\u001b[0m\n\u001b[1;32m   3802\u001b[0m \u001b[38;5;28;01mtry\u001b[39;00m:\n\u001b[0;32m-> 3803\u001b[0m     \u001b[38;5;28;01mreturn\u001b[39;00m \u001b[38;5;28;43mself\u001b[39;49m\u001b[38;5;241;43m.\u001b[39;49m\u001b[43m_engine\u001b[49m\u001b[38;5;241;43m.\u001b[39;49m\u001b[43mget_loc\u001b[49m\u001b[43m(\u001b[49m\u001b[43mcasted_key\u001b[49m\u001b[43m)\u001b[49m\n\u001b[1;32m   3804\u001b[0m \u001b[38;5;28;01mexcept\u001b[39;00m \u001b[38;5;167;01mKeyError\u001b[39;00m \u001b[38;5;28;01mas\u001b[39;00m err:\n",
      "File \u001b[0;32m/opt/conda/lib/python3.10/site-packages/pandas/_libs/index.pyx:138\u001b[0m, in \u001b[0;36mpandas._libs.index.IndexEngine.get_loc\u001b[0;34m()\u001b[0m\n",
      "File \u001b[0;32m/opt/conda/lib/python3.10/site-packages/pandas/_libs/index.pyx:165\u001b[0m, in \u001b[0;36mpandas._libs.index.IndexEngine.get_loc\u001b[0;34m()\u001b[0m\n",
      "File \u001b[0;32mpandas/_libs/hashtable_class_helper.pxi:5745\u001b[0m, in \u001b[0;36mpandas._libs.hashtable.PyObjectHashTable.get_item\u001b[0;34m()\u001b[0m\n",
      "File \u001b[0;32mpandas/_libs/hashtable_class_helper.pxi:5753\u001b[0m, in \u001b[0;36mpandas._libs.hashtable.PyObjectHashTable.get_item\u001b[0;34m()\u001b[0m\n",
      "\u001b[0;31mKeyError\u001b[0m: 'Pizza Place 1'",
      "\nThe above exception was the direct cause of the following exception:\n",
      "\u001b[0;31mKeyError\u001b[0m                                  Traceback (most recent call last)",
      "Cell \u001b[0;32mIn[8], line 17\u001b[0m\n\u001b[1;32m     13\u001b[0m     t_statistic, p_value \u001b[38;5;241m=\u001b[39m stats\u001b[38;5;241m.\u001b[39mttest_ind(sales_place1, sales_place2, equal_var\u001b[38;5;241m=\u001b[39m\u001b[38;5;28;01mFalse\u001b[39;00m, alternative\u001b[38;5;241m=\u001b[39m\u001b[38;5;124m'\u001b[39m\u001b[38;5;124mtwo-sided\u001b[39m\u001b[38;5;124m'\u001b[39m)\n\u001b[1;32m     15\u001b[0m     \u001b[38;5;28;01mreturn\u001b[39;00m p_value\n\u001b[0;32m---> 17\u001b[0m \u001b[43mcompare_sales\u001b[49m\u001b[43m(\u001b[49m\u001b[43m)\u001b[49m\n",
      "Cell \u001b[0;32mIn[8], line 8\u001b[0m, in \u001b[0;36mcompare_sales\u001b[0;34m()\u001b[0m\n\u001b[1;32m      5\u001b[0m orderData \u001b[38;5;241m=\u001b[39m pd\u001b[38;5;241m.\u001b[39mread_csv(\u001b[38;5;124m\"\u001b[39m\u001b[38;5;124morderData.csv\u001b[39m\u001b[38;5;124m\"\u001b[39m, index_col\u001b[38;5;241m=\u001b[39m\u001b[38;5;241m0\u001b[39m)\n\u001b[1;32m      7\u001b[0m \u001b[38;5;66;03m# Extract sales data for each pizza place\u001b[39;00m\n\u001b[0;32m----> 8\u001b[0m sales_place1 \u001b[38;5;241m=\u001b[39m \u001b[43morderData\u001b[49m\u001b[43m[\u001b[49m\u001b[38;5;124;43m'\u001b[39;49m\u001b[38;5;124;43mPizza Place 1\u001b[39;49m\u001b[38;5;124;43m'\u001b[39;49m\u001b[43m]\u001b[49m\n\u001b[1;32m      9\u001b[0m sales_place2 \u001b[38;5;241m=\u001b[39m orderData[\u001b[38;5;124m'\u001b[39m\u001b[38;5;124mPizza Place 2\u001b[39m\u001b[38;5;124m'\u001b[39m]\n\u001b[1;32m     11\u001b[0m \u001b[38;5;66;03m# Perform a two-sample, two-sided t-test\u001b[39;00m\n\u001b[1;32m     12\u001b[0m \u001b[38;5;66;03m# This tests the null hypothesis that the two independent samples have identical average values.\u001b[39;00m\n",
      "File \u001b[0;32m/opt/conda/lib/python3.10/site-packages/pandas/core/frame.py:3804\u001b[0m, in \u001b[0;36mDataFrame.__getitem__\u001b[0;34m(self, key)\u001b[0m\n\u001b[1;32m   3802\u001b[0m \u001b[38;5;28;01mif\u001b[39;00m \u001b[38;5;28mself\u001b[39m\u001b[38;5;241m.\u001b[39mcolumns\u001b[38;5;241m.\u001b[39mnlevels \u001b[38;5;241m>\u001b[39m \u001b[38;5;241m1\u001b[39m:\n\u001b[1;32m   3803\u001b[0m     \u001b[38;5;28;01mreturn\u001b[39;00m \u001b[38;5;28mself\u001b[39m\u001b[38;5;241m.\u001b[39m_getitem_multilevel(key)\n\u001b[0;32m-> 3804\u001b[0m indexer \u001b[38;5;241m=\u001b[39m \u001b[38;5;28;43mself\u001b[39;49m\u001b[38;5;241;43m.\u001b[39;49m\u001b[43mcolumns\u001b[49m\u001b[38;5;241;43m.\u001b[39;49m\u001b[43mget_loc\u001b[49m\u001b[43m(\u001b[49m\u001b[43mkey\u001b[49m\u001b[43m)\u001b[49m\n\u001b[1;32m   3805\u001b[0m \u001b[38;5;28;01mif\u001b[39;00m is_integer(indexer):\n\u001b[1;32m   3806\u001b[0m     indexer \u001b[38;5;241m=\u001b[39m [indexer]\n",
      "File \u001b[0;32m/opt/conda/lib/python3.10/site-packages/pandas/core/indexes/base.py:3805\u001b[0m, in \u001b[0;36mIndex.get_loc\u001b[0;34m(self, key, method, tolerance)\u001b[0m\n\u001b[1;32m   3803\u001b[0m     \u001b[38;5;28;01mreturn\u001b[39;00m \u001b[38;5;28mself\u001b[39m\u001b[38;5;241m.\u001b[39m_engine\u001b[38;5;241m.\u001b[39mget_loc(casted_key)\n\u001b[1;32m   3804\u001b[0m \u001b[38;5;28;01mexcept\u001b[39;00m \u001b[38;5;167;01mKeyError\u001b[39;00m \u001b[38;5;28;01mas\u001b[39;00m err:\n\u001b[0;32m-> 3805\u001b[0m     \u001b[38;5;28;01mraise\u001b[39;00m \u001b[38;5;167;01mKeyError\u001b[39;00m(key) \u001b[38;5;28;01mfrom\u001b[39;00m \u001b[38;5;21;01merr\u001b[39;00m\n\u001b[1;32m   3806\u001b[0m \u001b[38;5;28;01mexcept\u001b[39;00m \u001b[38;5;167;01mTypeError\u001b[39;00m:\n\u001b[1;32m   3807\u001b[0m     \u001b[38;5;66;03m# If we have a listlike key, _check_indexing_error will raise\u001b[39;00m\n\u001b[1;32m   3808\u001b[0m     \u001b[38;5;66;03m#  InvalidIndexError. Otherwise we fall through and re-raise\u001b[39;00m\n\u001b[1;32m   3809\u001b[0m     \u001b[38;5;66;03m#  the TypeError.\u001b[39;00m\n\u001b[1;32m   3810\u001b[0m     \u001b[38;5;28mself\u001b[39m\u001b[38;5;241m.\u001b[39m_check_indexing_error(key)\n",
      "\u001b[0;31mKeyError\u001b[0m: 'Pizza Place 1'"
     ]
    }
   ],
   "source": [
    "import pandas as pd\n",
    "import scipy.stats as stats\n",
    "\n",
    "def compare_sales():\n",
    "    orderData = pd.read_csv(\"orderData.csv\", index_col=0)\n",
    "    \n",
    "    # Extract sales data for each pizza place\n",
    "    sales_place1 = orderData['Pizza Place 1']\n",
    "    sales_place2 = orderData['Pizza Place 2']\n",
    "    \n",
    "    # Perform a two-sample, two-sided t-test\n",
    "    # This tests the null hypothesis that the two independent samples have identical average values.\n",
    "    t_statistic, p_value = stats.ttest_ind(sales_place1, sales_place2, equal_var=False, alternative='two-sided')\n",
    "    \n",
    "    return p_value\n",
    "\n",
    "compare_sales()\n"
   ]
  },
  {
   "cell_type": "code",
   "execution_count": null,
   "metadata": {
    "deletable": false,
    "editable": false,
    "nbgrader": {
     "cell_type": "code",
     "checksum": "918f537361d6c6df77fabff8ccc06416",
     "grade": true,
     "grade_id": "cell-b32df707098db0ff",
     "locked": true,
     "points": 3,
     "schema_version": 3,
     "solution": false,
     "task": false
    }
   },
   "outputs": [],
   "source": [
    "# HIDDEN TEST CELL\n"
   ]
  }
 ],
 "metadata": {
  "kernelspec": {
   "display_name": "Python 3 (ipykernel)",
   "language": "python",
   "name": "python3"
  },
  "language_info": {
   "codemirror_mode": {
    "name": "ipython",
    "version": 3
   },
   "file_extension": ".py",
   "mimetype": "text/x-python",
   "name": "python",
   "nbconvert_exporter": "python",
   "pygments_lexer": "ipython3",
   "version": "3.10.6"
  },
  "varInspector": {
   "cols": {
    "lenName": 16,
    "lenType": 16,
    "lenVar": 40
   },
   "kernels_config": {
    "python": {
     "delete_cmd_postfix": "",
     "delete_cmd_prefix": "del ",
     "library": "var_list.py",
     "varRefreshCmd": "print(var_dic_list())"
    },
    "r": {
     "delete_cmd_postfix": ") ",
     "delete_cmd_prefix": "rm(",
     "library": "var_list.r",
     "varRefreshCmd": "cat(var_dic_list()) "
    }
   },
   "types_to_exclude": [
    "module",
    "function",
    "builtin_function_or_method",
    "instance",
    "_Feature"
   ],
   "window_display": false
  }
 },
 "nbformat": 4,
 "nbformat_minor": 2
}
